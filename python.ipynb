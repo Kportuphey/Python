{
 "cells": [
  {
   "cell_type": "code",
   "execution_count": null,
   "metadata": {},
   "outputs": [
    {
     "name": "stdout",
     "output_type": "stream",
     "text": [
      "today's date is  2020-05-17\n"
     ]
    }
   ],
   "source": [
    "from datetime import date\n",
    "today=date.today()\n",
    "print(\"today's date is \",today)\n",
    "start=today.strftime(input('please enter your start time in 24hr format:'))\n",
    "print(start)\n",
    "end=today.strftime(input('please enter your stop time in 24hr format:'))\n",
    "print(end)\n",
    "a= start\n",
    "b=int(a[0:2])\n",
    "c=int(a[3:5])/60\n",
    "d= b+c\n",
    "e= end\n",
    "f=int(e[0:2])\n",
    "g=int(e[3:5])/60\n",
    "h=f+g\n",
    "i= round((h-d),2)\n",
    "j= i*5\n",
    "k=[a,b]\n",
    "print('Total time spent= ',i,'hrs')\n",
    "print()\n",
    "print('Amount to be charged = $',j)\n",
    "import pandas as pd\n",
    "l=[a,e]\n",
    "k= ['start time','stop time']\n",
    "df= pd.DataFrame([k,l])\n",
    "f = open('python.csv','a')\n",
    "f.write(str(df))\n",
    "f.close()"
   ]
  },
  {
   "cell_type": "code",
   "execution_count": null,
   "metadata": {},
   "outputs": [],
   "source": []
  }
 ],
 "metadata": {
  "kernelspec": {
   "display_name": "Python 3",
   "language": "python",
   "name": "python3"
  },
  "language_info": {
   "codemirror_mode": {
    "name": "ipython",
    "version": 3
   },
   "file_extension": ".py",
   "mimetype": "text/x-python",
   "name": "python",
   "nbconvert_exporter": "python",
   "pygments_lexer": "ipython3",
   "version": "3.7.6"
  }
 },
 "nbformat": 4,
 "nbformat_minor": 4
}
